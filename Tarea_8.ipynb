{
 "cells": [
  {
   "cell_type": "markdown",
   "metadata": {},
   "source": [
    "<table style=\"width:100%\" border=\"0\">\n",
    "    <col width=\"20%\">\n",
    "    <col width=\"60%\">\n",
    "    <col width=\"20%\">\n",
    "    <tr></tr>\n",
    "    <tr>\n",
    "        <th style=\"text-align:left\"><img src=\"Images/UNAM_logo.jpg\" width=\"150px\"></th>\n",
    "        <th style=\"text-align:center\"><span style=\"font-size:220%\">Física Computacional</span><br/><br/><span style=\"font-size:150%\">Tarea 8</span></th> \n",
    "        <th style=\"text-align:right\"><img src=\"Images/LogoCiencias.jpg\" width=\"170px\"></th>\n",
    "    </tr>\n",
    "</table>"
   ]
  },
  {
   "cell_type": "code",
   "execution_count": 1,
   "metadata": {
    "collapsed": true
   },
   "outputs": [],
   "source": [
    "using PyPlot\n",
    "using SymPy"
   ]
  },
  {
   "cell_type": "markdown",
   "metadata": {},
   "source": [
    "### Ejercicio 1"
   ]
  },
  {
   "cell_type": "markdown",
   "metadata": {},
   "source": [
    "Se realiza una rutina para calcular la derivada numérica de una función partiendo de su definición pero sin el límite:\n",
    "\n",
    "$$f'(x_{0})\\approx \\frac{f(x_{0}+h)-f(x_{0})}{h}:=\\frac{\\Delta\\:f(x_{0},h)}{h},$$\n",
    "\n",
    "donde $\\Delta\\:f(x_{0},h)$ se conoce como _diferencia finita hacia adelante_, así que esta aproximación es la _derivada numérica hacia adelante_."
   ]
  },
  {
   "cell_type": "code",
   "execution_count": 2,
   "metadata": {
    "collapsed": true
   },
   "outputs": [],
   "source": [
    "function derivadaNumerica(f,x0,h)\n",
    "    \n",
    "    df = (f(x0+h)-f(x0))/h\n",
    "    \n",
    "    return df\n",
    "    \n",
    "end;"
   ]
  },
  {
   "cell_type": "code",
   "execution_count": 3,
   "metadata": {
    "collapsed": true
   },
   "outputs": [],
   "source": [
    "f(x)=cos(x);"
   ]
  },
  {
   "cell_type": "code",
   "execution_count": 4,
   "metadata": {},
   "outputs": [
    {
     "data": {
      "text/plain": [
       "-0.4881691106361441"
      ]
     },
     "execution_count": 4,
     "metadata": {},
     "output_type": "execute_result"
    }
   ],
   "source": [
    "derivadaNumerica(f,0.5,0.02)"
   ]
  },
  {
   "cell_type": "markdown",
   "metadata": {},
   "source": [
    "### Ejercicio 2"
   ]
  },
  {
   "cell_type": "markdown",
   "metadata": {},
   "source": [
    "Se extiende la definición de la rutina anterior para calcular la derivada numérica para varias $h$."
   ]
  },
  {
   "cell_type": "code",
   "execution_count": 5,
   "metadata": {
    "collapsed": true
   },
   "outputs": [],
   "source": [
    "function derivada_Numerica(f,x0,h)\n",
    "    \n",
    "    x = Sym(\"x\")\n",
    "    g = f(x)\n",
    "    dg = diff(g(x))             # Se usa esto para calcular el error relativo.\n",
    "    df = lambdify(dg,[x])       # Se regresa la derivada a una función de Julia.\n",
    "    \n",
    "    D = (f(x0+h)-f(x0))./h      # Lista con las aproximaciones a la derivada.\n",
    "    E = (D - df(x0) )/df(x0)    # Lista con los errores relativos.\n",
    "    \n",
    "    return D,abs.(E)\n",
    "    \n",
    "end;"
   ]
  },
  {
   "cell_type": "code",
   "execution_count": 6,
   "metadata": {
    "collapsed": true
   },
   "outputs": [],
   "source": [
    "f(x)=cos.(x);"
   ]
  },
  {
   "cell_type": "code",
   "execution_count": 7,
   "metadata": {
    "collapsed": true
   },
   "outputs": [],
   "source": [
    "h=linspace(0,1,1000);"
   ]
  },
  {
   "cell_type": "code",
   "execution_count": 9,
   "metadata": {},
   "outputs": [],
   "source": [
    "A = derivada_Numerica(f,0.1,h);"
   ]
  },
  {
   "cell_type": "markdown",
   "metadata": {},
   "source": [
    "Para comparar como es que varia el error relativo $\\varepsilon$:\n",
    "\n",
    "$$\\varepsilon=\\left|\\frac{\\Delta\\:f(x_{0},h)-f'(x_{0})}{f'(x_{0})}\\right|,$$\n",
    "\n",
    "con $h$, se realiza una gráfica $\\varepsilon$ - $h$."
   ]
  },
  {
   "cell_type": "code",
   "execution_count": 10,
   "metadata": {},
   "outputs": [
    {
     "data": {
      "image/png": "[encoded data removed]",
      "text/plain": [
       "PyPlot.Figure(PyObject <matplotlib.figure.Figure object at 0x134278550>)"
      ]
     },
     "metadata": {},
     "output_type": "display_data"
    }
   ],
   "source": [
    "xlabel(L\"$h$\")\n",
    "ylabel(L\"$\\epsilon$\")\n",
    "plot(h,A[2]);"
   ]
  },
  {
   "cell_type": "markdown",
   "metadata": {},
   "source": [
    "Se observa que el error que introduce esta aproximación escala con $h$."
   ]
  },
  {
   "cell_type": "markdown",
   "metadata": {},
   "source": [
    "### Ejercicio 7"
   ]
  },
  {
   "cell_type": "markdown",
   "metadata": {},
   "source": [
    "Definamos ahora el operador _diferencia finita simétrica_ $\\delta_{h}:\\:f(x)\\mapsto\\:f(x+h)-f(x-h)$. Notemos lo siguiente:\n",
    "\n",
    "$$(\\Delta_{h}-\\Delta_{-h})\\:f(x)=\\Delta_{h}\\:f(x)-\\Delta_{-h}\\:f(x)=f(x+h)-f(x)-f(x-h)+f(x),$$\n",
    "\n",
    "$$(\\Delta_{h}-\\Delta_{-h})\\:f(x)=f(x+h)-f(x-h).$$\n",
    "\n",
    "Por lo tanto $\\delta_{h}=\\Delta_{h}-\\Delta_{-h}$, ergo:\n",
    "\n",
    "$$\\delta_{h}=\\exp\\left(h\\left.\\frac{d}{d\\xi}\\right|_{\\substack{\\xi=x}}\\right)-1-\\exp\\left(-h\\left.\\frac{d}{d\\xi}\\right|_{\\substack{\\xi=x}}\\right)+1,$$\n",
    "\n",
    "$$\\delta_{h}=\\exp\\left(h\\left.\\frac{d}{d\\xi}\\right|_{\\substack{\\xi=x}}\\right)-\\exp\\left(-h\\left.\\frac{d}{d\\xi}\\right|_{\\substack{\\xi=x}}\\right),$$\n",
    "\n",
    "$$\\delta_{h}=2\\:\\mathrm{senh}\\left(h\\left.\\frac{d}{d\\xi}\\right|_{\\substack{\\xi=x}}\\right)$$\n",
    "\n",
    "Por lo que, al despejar el operador derivada exacta:\n",
    "\n",
    "$$\\left.\\frac{d}{d\\xi}\\right|_{\\substack{\\xi=x}}=\\frac{1}{h}\\:\\mathrm{senh}^{-1}\\left(\\frac{\\delta_{h}}{2}\\right)$$"
   ]
  },
  {
   "cell_type": "markdown",
   "metadata": {
    "collapsed": true
   },
   "source": [
    "Encontrar la serie de $\\mathrm{senh}^{-1}(x)$ no es difícil, basta encontrar la serie de su derivada e integrarla término a término, lo cual es posible hacer en el radio de convergencia.\n",
    "\n",
    "$$\\frac{d}{dx}\\mathrm{senh}^{-1}(x)=\\frac{1}{\\mathrm{senh}'(\\mathrm{senh}^{-1}(x))}=\\frac{1}{\\cosh(\\mathrm{senh}^{-1}(x))}=\\frac{1}{\\sqrt{1+\\mathrm{senh}^{2}(\\mathrm{senh}^{-1}(x))}}$$\n",
    "\n",
    "$$\\frac{d}{dx}\\mathrm{senh}^{-1}(x)=\\frac{1}{\\sqrt{1+x^{2}}}$$\n",
    "\n",
    "Por el teorema generalizado del binomio tenemos que:\n",
    "\n",
    "$$\\frac{1}{\\sqrt{1+x^{2}}}=\\left(1+x^{2}\\right)^{-1/2}=\\sum_{n=0}^{\\infty}\\binom{-1/2}{n}x^{2n}.$$\n",
    "\n",
    "En donde:\n",
    "\n",
    "$$\\binom{-1/2}{n}=\\frac{1}{n!}\\prod_{k=0}^{n-1}\\left(-\\frac{1}{2}-k\\right)=\\frac{(-1)^{n}(2n-1)!!}{2^{n}n!}=\\frac{(-1)^{n}(2n)!}{4^{n}(n!)^{2}},$$\n",
    "\n",
    "por lo que:\n",
    "\n",
    "$$\\frac{1}{\\sqrt{1+x^{2}}}=\\sum_{n=0}^{\\infty}\\frac{(-1)^{n}(2n)!}{4^{n}(n!)^{2}}x^{2n}$$\n",
    "\n",
    "Luego así:\n",
    "\n",
    "$$\\mathrm{senh}^{-1}(x)=\\int_{0}^{x}\\frac{1}{\\sqrt{1+t^{2}}}\\:dt=\\int_{0}^{x}\\sum_{n=0}^{\\infty}\\frac{(-1)^{n}(2n)!}{4^{n}(n!)^{2}}t^{2n}\\:dt=\\sum_{n=0}^{\\infty}\\frac{(-1)^{n}(2n)!}{4^{n}(n!)^{2}}\\int_{0}^{x}t^{2n}\\:dt.$$\n",
    "\n",
    "Y como $\\displaystyle\\int_{0}^{x}t^{2n}\\:dt=\\frac{x^{2n+1}}{2n+1}$, se tiene que:\n",
    "\n",
    "$$\\mathrm{senh}^{-1}(x)=\\sum_{n=0}^{\\infty}\\frac{(-1)^{n}(2n)!}{4^{n}(n!)^{2}(2n+1)}x^{2n+1}.$$\n",
    "\n",
    "$$\\therefore\\:\\:\\left.\\frac{d}{d\\xi}\\right|_{\\substack{\\xi=x}}=\\frac{1}{2h}\\sum_{n=0}^{\\infty}\\frac{(-1)^{n}(2n)!}{4^{2n}(n!)^{2}(2n+1)}\\delta_{h}^{\\:2n+1}=\\frac{1}{2h}\\left(\\delta_{h}-\\frac{1}{24}\\delta_{h}^{\\:2}+\\cdots\\right).$$\n",
    "\n",
    "Observamos que truncando para $n=0$ se tiene el resultado del ejercicio 3."
   ]
  },
  {
   "cell_type": "markdown",
   "metadata": {},
   "source": [
    "<div align=\"right\" style=\"text-indent:0.5cm\">**Alonso Torres Edgar Giovanni**</div>"
   ]
  }
 ],
 "metadata": {
  "kernelspec": {
   "display_name": "Julia 0.6.0",
   "language": "julia",
   "name": "julia-0.6"
  },
  "language_info": {
   "file_extension": ".jl",
   "mimetype": "application/julia",
   "name": "julia",
   "version": "0.6.0"
  }
 },
 "nbformat": 4,
 "nbformat_minor": 2
}
