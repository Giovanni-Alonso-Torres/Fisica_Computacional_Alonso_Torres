{
 "cells": [
  {
   "cell_type": "markdown",
   "metadata": {},
   "source": [
    "<table style=\"width:100%\">\n",
    "    <col width=\"20%\">\n",
    "    <col width=\"60%\">\n",
    "    <col width=\"20%\">\n",
    "    <tr></tr>\n",
    "    <tr>\n",
    "        <th style=\"text-align:left\"><img src=\"Images/UNAM_logo.jpg\" width=\"150px\"></th>\n",
    "        <th style=\"text-align:center\"><span style=\"font-size:220%\">Métodos de integración (numérica)</span></th> \n",
    "        <th style=\"text-align:right\"><img src=\"Images/LogoCiencias.jpg\" width=\"170px\"></th>\n",
    "    </tr>\n",
    "</table>"
   ]
  },
  {
   "cell_type": "markdown",
   "metadata": {},
   "source": [
    "## Introducción"
   ]
  },
  {
   "cell_type": "markdown",
   "metadata": {},
   "source": [
    "<div align=\"justify\" style=\"text-indent:0.5cm\">Actualmente se sabe calcular de manera analítica el resultado de muchas integrales, ya sea utilizando la propia definición de la integral, usando resultados ya conocidos o apoyándose de diversos teoremas que asistan en el cálculo de estas integrales, tales como el _Teorema Fundamental del Cálculo_ o los teoremas de _integración por partes_ y _cambio de variable_. Sin embargo, de todas las integrales que existen (i.e. de funciones que se sabe que son integrables en un intervalo) solamente un conjunto pequeño de éstas se pueden obtener de manera analítica, incluso aunque la función a integrar sea continua $\\bigl(\\bigr.$p. ej. $\\bigl.f(x)=e^{-x^{2}}\\bigr)$.</div><br/>\n",
    "\n",
    "<div align=\"justify\" style=\"text-indent:0.5cm\">Es en este punto cuando surgen diferentes herramientas para obtener integrales de funciones de manera aproximada, a lo que se conoce como **métodos de integración numérica**. Estos métodos conforman una gran variedad de algoritmos para calcular _numéricamente_ integrales definidas:</div>\n",
    "\n",
    "$$\\int_{a}^{b}f(x)\\:dx$$\n"
   ]
  },
  {
   "cell_type": "markdown",
   "metadata": {
    "collapsed": true
   },
   "source": [
    "## Método de integración de Riemann"
   ]
  },
  {
   "cell_type": "markdown",
   "metadata": {},
   "source": [
    "<div align=\"justify\" style=\"text-indent:0.5cm\">Este método se basa en la convergencia de las **sumas de Riemann** de una función $\\:f$ a la integral de dicha función. El método utiliza entonces el criterio de integrabilidad de Riemann:</div>\n",
    "\n",
    "><div align=\"justify\">Sea $\\:f$ una función definida en un intervalo $[a,b]$ y acotada, decimos que $\\:f$ es Riemann integrable sobre $[a,b]$ si exite un número $I$ tal que $\\forall\\varepsilon>0$ existe $\\delta>0$ tal que, si $P=\\{t_{0},\\dots,t_{n}\\}$ es una partición cualquiera de $[a,b]$ con $t_{i}-t_{i-1}<\\delta$ para $i\\in\\{1,\\dots,n\\}$ y $S(P,f)$ es cualquier suma de Riemann, entonces:</div>$$\\left|\\:S(P,f)-I\\:\\right|<\\varepsilon$$<br/><div align=\"justify\">Si esto ocurre, entonces $\\displaystyle I=\\int_{a}^{b}f(x)\\:dx$</div>\n",
    "\n",
    "<div align=\"justify\" style=\"text-indent:0.5cm\">Donde la suma de Riemann $S(P,f)$se define como:</div>\n",
    "\n",
    "><div align=\"justify\">Sea $\\:f$ una función definida en un intervalo $[a,b]$, supóngase que $P=\\{t_{0},\\dots,t_{n}\\}$ es una partición de $[a,b]$ y que para cada $i$ elegimos un punto $x_{i}\\in[t_{i-1},t_{i}]$, entonces</div>$$S(P,f)=\\sum_{i=1}^{n}f(x_{i})(t_{i}-t_{i-1})$$"
   ]
  },
  {
   "cell_type": "markdown",
   "metadata": {},
   "source": [
    "![FIGURA 1](Images/Riemann.gif)"
   ]
  },
  {
   "cell_type": "markdown",
   "metadata": {},
   "source": [
    "<div align=\"center\">**Figura 1:** Método de integración de Riemann. Aproximación por rectángulos.</div>"
   ]
  },
  {
   "cell_type": "markdown",
   "metadata": {},
   "source": [
    "<div align=\"justify\" style=\"text-indent:0.5cm\">Existe un teorema que nos garantiza que las funciones **continuas** en $[a,b]$ son Riemann integrables sobre $[a,b]$. En particular para las funciones continuas se puede seleccionar cualquier punto $x_{i}\\in[t_{i-1},t_{i}]$ incluyendo los extremos, en el método numérico lo que se suele hacer es tomar una partición regular (que divide al intervalo en $n$ partes igualmente espaciadas), así:</div>\n",
    "\n",
    "$$t_{i}-t_{i-1}=\\frac{b-a}{n}\\hspace{0.5cm}\\mathrm{y\\:se\\:toma}\\hspace{0.5cm}x_{i}=t_{i}=a+i\\frac{b-a}{n}$$<br/>\n",
    "\n",
    "<div align=\"justify\" style=\"text-indent:0.5cm\">Por lo tanto, usando la integrabilidad de Riemann se tiene que:</div>\n",
    "\n",
    "$$\\int_{a}^{b}f(x)\\:dx=\\lim_{n\\to\\infty}\\frac{b-a}{n}\\sum_{i=1}^{n}f\\left(a+i\\frac{b-a}{n}\\right)$$<br/>\n",
    "\n",
    "<div align=\"justify\" style=\"text-indent:0.5cm\">Es esta última ecuación la que nos da un método numérico para calcular la integral definida de alguna función $\\:f$ tomando la suma hasta $n$ _finito_.</div>"
   ]
  },
  {
   "cell_type": "code",
   "execution_count": 1,
   "metadata": {
    "collapsed": true
   },
   "outputs": [],
   "source": [
    "using SymPy;\n",
    "x=symbols(\"x\");\n",
    "function Riemann(f,a,b,n=5)\n",
    "    \n",
    "    i=symbols(\"i\")\n",
    "    h=(b-a)/n\n",
    "    I=h*summation(f(a+i*h),(i,1,n))\n",
    "    return N(I)\n",
    "    \n",
    "end;"
   ]
  },
  {
   "cell_type": "code",
   "execution_count": 2,
   "metadata": {},
   "outputs": [
    {
     "data": {
      "text/plain": [
       "95.03999999999998"
      ]
     },
     "execution_count": 2,
     "metadata": {},
     "output_type": "execute_result"
    }
   ],
   "source": [
    "Riemann(x^2,0,6)"
   ]
  },
  {
   "cell_type": "markdown",
   "metadata": {
    "collapsed": true
   },
   "source": [
    "## Regla del trapecio"
   ]
  },
  {
   "cell_type": "markdown",
   "metadata": {},
   "source": [
    "<div align=\"justify\" style=\"text-indent:0.5cm\">La regla del trapecio consiste en aproximar una función $\\:f$ por una función lineal a pedazos. Difiere del método de integración de Riemann que aproxima la función $\\:f$ por una función constante a pedazos, si se observa el método de integración de Riemann se puede notar que lo que se hace es aproximar la integral por la suma del área de rectángulos de base $(b-a)/n$ y altuta $\\:f(x_{i})$</div><br/>\n",
    "\n",
    "<div align=\"justify\" style=\"text-indent:0.5cm\">La regla del trapecio aproxima la integral por la suma del área de trapecios de base $x_{k+1}-x_{k}$ y alturas $\\:f(x_{k})$ y $\\:f(x_{k+1})$. El área de uno de los trapecios es:</div>\n",
    "\n",
    "$$A_{k}=\\frac{1}{2}\\bigl[\\:f(x_{k})+f(x_{k+1})\\:\\bigr](x_{k+1}-x_{k})$$<br/>\n",
    "\n",
    "<div align=\"justify\" style=\"text-indent:0.5cm\">Para una función $\\:f$ definida en $[a,b]$ y una partición $P=\\{x_{0},\\dots,x_{n}\\}$ regular de $[a,b]$ tenemos que</div>\n",
    "\n",
    "$$\\int_{a}^{b}f(x)\\:dx=\\sum_{k=0}^{n-1}\\int_{x_{k}}^{x_{k+1}}f(x)\\:dx\\approx\\sum_{k=0}^{n-1}A_{k}=\\frac{b-a}{2n}\\sum_{k=0}^{n-1}\\bigl[\\:f(x_{k})+f(x_{k+1})\\:\\bigr]=\\frac{b-a}{n}\\left[\\frac{f(a)+f(b)}{2}+\\sum_{k=1}^{n-1}f(x_{k})\\right]$$<br/>\n",
    "\n",
    "<div align=\"justify\" style=\"text-indent:0.5cm\">Entonces la regla del trapecio resulta con la aproximación:</div>\n",
    "\n",
    "$$\\int_{a}^{b}f(x)\\:dx\\approx\\frac{b-a}{n}\\left[\\frac{f(a)+f(b)}{2}+\\sum_{k=1}^{n-1}f\\left(a+k\\frac{b-a}{n}\\right)\\right]$$<br/>"
   ]
  },
  {
   "cell_type": "markdown",
   "metadata": {},
   "source": [
    "![FIGURA 2](Images/Trapecio.png)"
   ]
  },
  {
   "cell_type": "markdown",
   "metadata": {},
   "source": [
    "<div align=\"center\">**Figura 2:** Regla del trapecio. Aproximación por trapecios.</div>"
   ]
  },
  {
   "cell_type": "markdown",
   "metadata": {},
   "source": [
    "<div align=\"justify\" style=\"text-indent:0.5cm\">Con este método de integración, como en todos los métodos, se comete un error en el valor exacto de la integral, para este método el error $e$ está dado por:</div>\n",
    "\n",
    "$$e=-\\frac{(b-a)^{3}}{12n^{2}}f''(\\xi),$$<br/>\n",
    "\n",
    "<div align=\"justify\" style=\"text-indent:0.5cm\">donde $\\xi$ es un valor que pertenece a $[a,b]$, de manera que el máximo error que se comete es:</div>\n",
    "\n",
    "$$e_{\\max}=\\frac{(b-a)^{3}}{12n^{2}}\\max_{a\\leq\\xi\\leq b}\\left|\\:f''(\\xi)\\:\\right|$$"
   ]
  },
  {
   "cell_type": "code",
   "execution_count": 3,
   "metadata": {
    "collapsed": true
   },
   "outputs": [],
   "source": [
    "using SymPy;\n",
    "x=symbols(\"x\");\n",
    "function Trapecio(f,a,b,n=5)\n",
    "    \n",
    "    k=symbols(\"k\")\n",
    "    h=(b-a)/n\n",
    "    I=h*((f(a)+f(b))/2+summation(f(a+k*h),(k,1,n-1)))\n",
    "    return N(I)\n",
    "    \n",
    "end;"
   ]
  },
  {
   "cell_type": "code",
   "execution_count": 4,
   "metadata": {},
   "outputs": [
    {
     "data": {
      "text/plain": [
       "73.44"
      ]
     },
     "execution_count": 4,
     "metadata": {},
     "output_type": "execute_result"
    }
   ],
   "source": [
    "Trapecio(x^2,0,6)"
   ]
  },
  {
   "cell_type": "markdown",
   "metadata": {},
   "source": [
    "## Regla de Simpson (de orden 2)"
   ]
  },
  {
   "cell_type": "markdown",
   "metadata": {},
   "source": [
    "![FIGURA 3](Images/Simpson.png)"
   ]
  },
  {
   "cell_type": "markdown",
   "metadata": {},
   "source": [
    "<div align=\"center\">**Figura 3:** Regla de Simpson. Aproximación por polinomios de segundo grado.</div>"
   ]
  },
  {
   "cell_type": "markdown",
   "metadata": {},
   "source": [
    "<div align=\"justify\" style=\"text-indent:0.5cm\">La regla de Simpson es otro método numérico, que sigue la misma filosofía que la regla del trapecio, sólo que aproxima en subintervalos a $\\:f$ por un polinomio de segundo grado. Tomando una partición $P=\\{x_{0},\\dots,x_{n}\\}$ regular del intervalo $[a,b]$, entonces:</div>\n",
    "\n",
    "$$\\int_{a}^{b}f(x)\\:dx=\\sum_{j=1}^{n-1}\\int_{x_{j-1}}^{x_{j+1}}f(x)\\:dx$$<br/>\n",
    "\n",
    "<div align=\"justify\" style=\"text-indent:0.5cm\">Por lo que basta aproximar $\\displaystyle\\int_{x_{j-1}}^{x_{j+1}}f(x)\\:dx$, para lograrlo se utiliza un polinomio interpolador de segundo grado $P_{j}(x)$, el cual tiene la expresión:</div>\n",
    "\n",
    "$$P_{j}(x)=f(x_{j-1})\\frac{(x-x_{j})(x-x_{j+1})}{(x_{j-1}-x_{j})(x_{j-1}-x_{j+1})}+f(x_{j})\\frac{(x-x_{j-1})(x-x_{j+1})}{(x_{j}-x_{j-1})(x_{j}-x_{j+1})}+f(x_{j+1})\\frac{(x-x_{j-1})(x-x_{j})}{(x_{j+1}-x_{j-1})(x_{j+1}-x_{j})}$$<br/>\n",
    "\n",
    "<div align=\"justify\" style=\"text-indent:0.5cm\">Luego así:</div>\n",
    "\n",
    "$$\\int_{x_{j-1}}^{x_{j+1}}f(x)\\:dx\\approx\\int_{x_{j-1}}^{x_{j+1}}P_{j}(x)\\:dx=\\frac{x_{j+1}-x_{j-1}}{6}\\bigl[\\:f(x_{j-1})+4f(x_{j})+f(x_{j+1})\\:\\bigr]$$<br/>\n",
    "\n",
    "<div align=\"justify\" style=\"text-indent:0.5cm\">Entonces para la integral completa tenemos que sumar todas las aproximaciones, resultando:</div>\n",
    "\n",
    "$$\\begin{array}{rcl}\n",
    "\\displaystyle\\int_{a}^{b}f(x)\\:dx & \\approx & \\displaystyle\\frac{b-a}{3n}\\left[\\:f(a)+2\\sum_{j=1}^{n/2-1}f(x_{2j})+4\\sum_{j=1}^{n/2}f(x_{2j-1})+f(b)\\right]\\\\\n",
    "\\displaystyle\\phantom{\\int_{a}^{b}f(x)\\:dx} & \\approx & \\displaystyle\\frac{b-a}{3n}\\left[\\:f(a)+2\\sum_{j=1}^{n/2-1}f\\left(a+2j\\frac{b-a}{n}\\right)+4\\sum_{j=1}^{n/2}f\\left(a+(2j-1)\\frac{b-a}{n}\\right)+f(b)\\right]\n",
    "\\end{array}$$<br/>\n",
    "\n",
    "<div align=\"justify\" style=\"text-indent:0.5cm\">El error máximo cometido con este método es:</div>\n",
    "\n",
    "$$e_{\\max}=\\frac{(b-a)^{5}}{180n^{4}}\\max_{a\\leq\\xi\\leq b}\\left|\\:f^{(4)}(\\xi)\\:\\right|$$"
   ]
  },
  {
   "cell_type": "code",
   "execution_count": 5,
   "metadata": {
    "collapsed": true
   },
   "outputs": [],
   "source": [
    "using SymPy;\n",
    "x=symbols(\"x\");\n",
    "function Simpson(f,a,b,n=5)\n",
    "    \n",
    "    j=symbols(\"j\")\n",
    "    h=(b-a)/n\n",
    "    even=2*summation(f(a+2j*h),(j,1,n/2-1))\n",
    "    odd=4*summation(f(a+(2j-1)*h),(j,1,n/2))\n",
    "    I=(h/3)*(f(a)+even+odd+f(b))\n",
    "    return N(I)\n",
    "    \n",
    "end;"
   ]
  },
  {
   "cell_type": "code",
   "execution_count": 6,
   "metadata": {},
   "outputs": [
    {
     "data": {
      "text/plain": [
       "72.0"
      ]
     },
     "execution_count": 6,
     "metadata": {},
     "output_type": "execute_result"
    }
   ],
   "source": [
    "Simpson(x^2,0,6)"
   ]
  },
  {
   "cell_type": "markdown",
   "metadata": {},
   "source": [
    "## Conclusiones"
   ]
  },
  {
   "cell_type": "markdown",
   "metadata": {},
   "source": [
    "<div align=\"justify\" style=\"text-indent:0.5cm\">Se han presentado tres métodos de integración distintos, unos más secillos que otros. Sin embargo, se observa que la convergencia de estos métodos es distinta, lo cual es apreciable entre la regla del trapecio y la regla de Simpson, en la parte del error máximo cometido, éste se va a cero como $1/n^{2}$ para la regla del trapecio, mientras que para la regla de Simpson se va a cero como $1/n^{4}$.</div>"
   ]
  },
  {
   "cell_type": "markdown",
   "metadata": {},
   "source": [
    "<div align=\"right\" style=\"text-indent:0.5cm\">**Alonso Torres Edgar Giovanni**</div>"
   ]
  }
 ],
 "metadata": {
  "kernelspec": {
   "display_name": "Julia 0.6.0",
   "language": "julia",
   "name": "julia-0.6"
  },
  "language_info": {
   "file_extension": ".jl",
   "mimetype": "application/julia",
   "name": "julia",
   "version": "0.6.0"
  }
 },
 "nbformat": 4,
 "nbformat_minor": 2
}
