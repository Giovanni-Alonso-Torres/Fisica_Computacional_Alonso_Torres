{
 "cells": [
  {
   "cell_type": "markdown",
   "metadata": {},
   "source": [
    "# Energías propias del pozo finito cuadrado"
   ]
  },
  {
   "cell_type": "code",
   "execution_count": 1,
   "metadata": {
    "collapsed": false
   },
   "outputs": [
    {
     "data": {
      "text/plain": [
       "Eigenenergy"
      ]
     },
     "execution_count": 1,
     "metadata": {},
     "output_type": "execute_result"
    }
   ],
   "source": [
    "\"\"\"\n",
    "Esta función calcula las eigenenergías de un pozo finito cuadrado. Eigenenergy``(x_0``,``A)``, utiliza el método de Newton-Raphson, ``x_0`` es el valor inicial de las iteraciones del método, mientras que ``A`` es la constante de la ecuación que define las eigenenergías del pozo. El resultado de la función es la eigenenergía asociada y el valor de la función evaluada en dicho valor.\n",
    "\"\"\"\n",
    "function Eigenenergy(R,S)\n",
    "  \n",
    "  f(y)=y*tan(y)-sqrt(complex(S-y*y))\n",
    "  if S==R*R\n",
    "    print(\"En Eigenenergy(R,S), elegir x_0^2 distinto de A.\")\n",
    "  else \n",
    "    x=R-f(R)/(tan(R)+R*sec(R)*sec(R)+R/sqrt(complex(S-R*R)))\n",
    "    \n",
    "    for i in 1:1000\n",
    "       x=x-f(x)/(tan(x)+x*sec(x)*sec(x)+x/sqrt(complex(S-x*x)))\n",
    "    end\n",
    "    return x,f(x)\n",
    "  end\n",
    "end"
   ]
  },
  {
   "cell_type": "code",
   "execution_count": 2,
   "metadata": {
    "collapsed": false
   },
   "outputs": [
    {
     "name": "stdout",
     "output_type": "stream",
     "text": [
      "search:\n",
      "\n"
     ]
    },
    {
     "data": {
      "text/markdown": [
       "Esta función calcula las eigenenergías de un pozo finito cuadrado. Eigenenergy$(x_0$,$A)$, utiliza el método de Newton-Raphson, $x_0$ es el valor inicial de las iteraciones del método, mientras que $A$ es la constante de la ecuación que define las eigenenergías del pozo. El resultado de la función es la eigenenergía asociada y el valor de la función evaluada en dicho valor.\n"
      ],
      "text/plain": [
       "Esta función calcula las eigenenergías de un pozo finito cuadrado. Eigenenergy$(x_0$,$A)$, utiliza el método de Newton-Raphson, $x_0$ es el valor inicial de las iteraciones del método, mientras que $A$ es la constante de la ecuación que define las eigenenergías del pozo. El resultado de la función es la eigenenergía asociada y el valor de la función evaluada en dicho valor.\n"
      ]
     },
     "execution_count": 2,
     "metadata": {},
     "output_type": "execute_result"
    }
   ],
   "source": [
    "?Eigenenergy"
   ]
  },
  {
   "cell_type": "code",
   "execution_count": 3,
   "metadata": {
    "collapsed": false
   },
   "outputs": [
    {
     "data": {
      "text/plain": [
       "(3.1616420951060653 + 0.0im, -3.802513859341161e-15 + 0.0im)"
      ]
     },
     "execution_count": 3,
     "metadata": {},
     "output_type": "execute_result"
    }
   ],
   "source": [
    "Eigenenergy(2,10)"
   ]
  },
  {
   "cell_type": "markdown",
   "metadata": {},
   "source": [
    "### Alonso Torres Edgar Giovanni"
   ]
  }
 ],
 "metadata": {
  "kernelspec": {
   "display_name": "Julia 0.6.0",
   "language": "julia",
   "name": "julia-0.6"
  },
  "language_info": {
   "file_extension": ".jl",
   "mimetype": "application/julia",
   "name": "julia",
   "version": "0.6.0"
  }
 },
 "nbformat": 4,
 "nbformat_minor": 2
}
