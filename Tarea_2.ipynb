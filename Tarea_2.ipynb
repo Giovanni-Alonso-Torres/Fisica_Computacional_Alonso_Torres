{
 "cells": [
  {
   "cell_type": "markdown",
   "metadata": {},
   "source": [
    "# Energías propias del pozo finito cuadrado"
   ]
  },
  {
   "cell_type": "code",
   "execution_count": 45,
   "metadata": {
    "collapsed": false
   },
   "outputs": [
    {
     "name": "stderr",
     "output_type": "stream",
     "text": [
      "\u001b[1m\u001b[33mWARNING: \u001b[39m\u001b[22m\u001b[33mreplacing docs for 'Eigenenergy :: Tuple{Any,Any}' in module 'Main'.\u001b[39m\n"
     ]
    },
    {
     "data": {
      "text/plain": [
       "Eigenenergy"
      ]
     },
     "execution_count": 45,
     "metadata": {},
     "output_type": "execute_result"
    }
   ],
   "source": [
    "\"\"\"\n",
    "Esta función calcula las eigenenergías de un pozo finito cuadrado. Eigenenergy``(x_0``,``A)``, utiliza el método de Newton-Raphson, ``x_0`` es el valor inicial de las iteraciones del método, mientras que ``A`` es la constante de la ecuación que define las eigenenergías del pozo. El resultado de la función es la eigenenergía asociada y el valor de la función evaluada en dicho valor.\n",
    "\"\"\"\n",
    "function Eigenenergy(R,S)\n",
    "  \n",
    "  f(y)=y*tan(y)-sqrt(complex(S-y*y))\n",
    "  if S==R*R\n",
    "    print(\"En Eigenenergy(R,S), elegir x_0^2 distinto de A.\")\n",
    "  else \n",
    "    x=R-f(R)/(tan(R)+R*sec(R)*sec(R)+R/sqrt(complex(S-R*R)))\n",
    "    \n",
    "    for i in 1:1000\n",
    "       x=x-f(x)/(tan(x)+x*sec(x)*sec(x)+x/sqrt(complex(S-x*x)))\n",
    "    end\n",
    "    return x,f(x)\n",
    "  end\n",
    "end"
   ]
  },
  {
   "cell_type": "code",
   "execution_count": 46,
   "metadata": {
    "collapsed": false
   },
   "outputs": [
    {
     "name": "stdout",
     "output_type": "stream",
     "text": [
      "search:\n",
      "\n"
     ]
    },
    {
     "data": {
      "text/markdown": [
       "Esta función calcula las eigenenergías de un pozo finito cuadrado. Eigenenergy$(x_0$,$A)$, utiliza el método de Newton-Raphson, $x_0$ es el valor inicial de las iteraciones del método, mientras que $A$ es la constante de la ecuación que define las eigenenergías del pozo. El resultado de la función es la eigenenergía asociada y el valor de la función evaluada en dicho valor.\n"
      ],
      "text/plain": [
       "Esta función calcula las eigenenergías de un pozo finito cuadrado. Eigenenergy$(x_0$,$A)$, utiliza el método de Newton-Raphson, $x_0$ es el valor inicial de las iteraciones del método, mientras que $A$ es la constante de la ecuación que define las eigenenergías del pozo. El resultado de la función es la eigenenergía asociada y el valor de la función evaluada en dicho valor.\n"
      ]
     },
     "execution_count": 46,
     "metadata": {},
     "output_type": "execute_result"
    }
   ],
   "source": [
    "?Eigenenergy"
   ]
  },
  {
   "cell_type": "code",
   "execution_count": 47,
   "metadata": {
    "collapsed": false
   },
   "outputs": [
    {
     "name": "stdout",
     "output_type": "stream",
     "text": [
      "En Eigenenergy(R,S), elegir x_0^2 distinto de A."
     ]
    }
   ],
   "source": [
    "Eigenenergy(5,25)"
   ]
  },
  {
   "cell_type": "markdown",
   "metadata": {},
   "source": [
    "### Alonso Torres Edgar Giovanni"
   ]
  }
 ],
 "metadata": {
  "kernelspec": {
   "display_name": "Julia 0.6.0",
   "language": "julia",
   "name": "julia-0.6"
  },
  "language_info": {
   "file_extension": ".jl",
   "mimetype": "application/julia",
   "name": "julia",
   "version": "0.6.0"
  }
 },
 "nbformat": 4,
 "nbformat_minor": 2
}
