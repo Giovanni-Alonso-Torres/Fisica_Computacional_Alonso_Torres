{
 "cells": [
  {
   "cell_type": "markdown",
   "metadata": {},
   "source": [
    "<table style=\"width:100%\" border=\"0\">\n",
    "    <col width=\"20%\">\n",
    "    <col width=\"60%\">\n",
    "    <col width=\"20%\">\n",
    "    <tr></tr>\n",
    "    <tr>\n",
    "        <th style=\"text-align:left\"><img src=\"Images/UNAM_logo.jpg\" width=\"150px\"></th>\n",
    "        <th style=\"text-align:center\"><span style=\"font-size:220%\">Física Computacional</span><br/><br/><span style=\"font-size:150%\">Tarea 19</span></th> \n",
    "        <th style=\"text-align:right\"><img src=\"Images/LogoCiencias.jpg\" width=\"170px\"></th>\n",
    "    </tr>\n",
    "</table>"
   ]
  },
  {
   "cell_type": "markdown",
   "metadata": {},
   "source": [
    "## Ecuaciones diferenciales parciales"
   ]
  },
  {
   "cell_type": "markdown",
   "metadata": {},
   "source": [
    "## Ejercicio 1"
   ]
  },
  {
   "cell_type": "markdown",
   "metadata": {},
   "source": [
    "Sabemos que la derivada númerica simétrica de una función de una variable $\\:g$ es\n",
    "\n",
    "$$g'(x)\\approx\\frac{g(x+h)-g(x-h)}{2h},$$\n",
    "\n",
    "entonces (si trabajamos con $h/2$)\n",
    "\n",
    "$$g''(x)\\approx\\frac{g(x+h)-2g(x)+g(x-h)}{h^{2}}$$\n",
    "\n",
    "Por lo tanto, si tenemos una función de tres variables $\\:f$ se tiene que es cartesianas\n",
    "\n",
    "$$\\nabla^{2}f=\\frac{1}{h^{2}}\\bigl[\\:f(x+h,y,z)+f(x,y+h,z)+f(x,y,z+h)-2\\:f(x,y,z)-2\\:f(x,y,z)-2\\:f(x,y,z)+f(x-h,y,z)+f(x,y-h,z)+f(x,y,z-h)\\bigr]$$"
   ]
  },
  {
   "cell_type": "markdown",
   "metadata": {},
   "source": [
    "## Ejercicio 2"
   ]
  },
  {
   "cell_type": "markdown",
   "metadata": {},
   "source": [
    "Si tenemos el intervalo $[0,1]$ y los dividimos en 5 puntos igualmente espaciados $h$ para poder resolver la ecuación de Laplace de una función $\\:f$, se puede realizar utilizando el operador de Laplace discretizado con $\\:f(0)=a$ y $\\:f(1)=b$ (condiciones de Dirichlet). Si llamamos $\\:f_{i}=f(ih)$, entonces $\\:f_{0}=a$ y $\\:f_{5}=b$. Al usar el operador de Laplace se tiene que\n",
    "\n",
    "$$f''_{i}=\\frac{f_{i+1}-2\\:f_{i}+f_{i-1}}{h^{2}},$$\n",
    "\n",
    "como estamos resolviendo la ecuación de Laplace $\\dfrac{d^{2}f}{dx^{2}}=0$ entonces $f''_{i}=0$, por lo que $f_{i+1}-2\\:f_{i}+f_{i-1}=0$, así para nuestro intervalo tenemos el siguiente sistema de ecuaciones algebraicas lineales\n",
    "\n",
    "$$\\left\\{\\begin{array}{c}f_{2}-2\\:f_{1}+a=0\\\\f_{3}-2\\:f_{2}+f_{1}=0\\\\f_{4}-2\\:f_{3}+f_{2}=0\\\\b-2\\:f_{4}+f_{3}=0\\end{array}\\right.$$\n",
    "\n",
    "Cuya forma matricial es\n",
    "\n",
    "$$\\left(\\begin{array}{cccc}-2 & 1 & 0 & 0\\\\1 & -2 & 1 & 0\\\\0 & 1 & -2 & 1\\\\0 & 0 & 1 & -2\\end{array}\\right)\\left(\\begin{array}{c}f_{1}\\\\f_{2}\\\\f_{3}\\\\f_{4}\\end{array}\\right)+\\left(\\begin{array}{c}a\\\\0\\\\0\\\\b\\end{array}\\right)=\\left(\\begin{array}{c}0\\\\0\\\\0\\\\0\\end{array}\\right)$$"
   ]
  },
  {
   "cell_type": "markdown",
   "metadata": {
    "collapsed": true
   },
   "source": [
    "## Ejercicio 3"
   ]
  },
  {
   "cell_type": "markdown",
   "metadata": {
    "collapsed": true
   },
   "source": [
    "Si ahora tenemos la misma situación que el ejercicio 2 pero con condiciones de Neumann, $\\:f'(0)=a$ y $\\:f'(1)=b$. Dado que al utilizar la ecuación de Laplace se tiene que $\\:f_{i+1}-2\\:f_{i}+f_{i-1}=0$, entonces necesitamos conocer $\\:f_{0}$ y $\\:f_{5}$ en términos de las demás, para ello utilizamos la derivada numérica hacia adelante\n",
    "\n",
    "$$a=f'(0)\\approx\\frac{f(h)-f(0)}{h}=\\frac{f_{1}-f_{0}}{h}\\Longrightarrow\\:f_{0}\\approx f_{1}-ah,$$\n",
    "\n",
    "y la derivada numérica hacia atrás\n",
    "\n",
    "$$b=f'(1)\\approx\\frac{f(1)-f(1-h)}{h}=\\frac{f_{5}-f_{4}}{h}\\Longrightarrow\\:f_{5}\\approx f_{4}+bh$$\n",
    "\n",
    "Así, el sistema algebraico de ecuaciones resultante es\n",
    "\n",
    "$$\\left\\{\\begin{array}{c}f_{2}-f_{1}-ah=0\\\\f_{3}-2\\:f_{2}+f_{1}=0\\\\f_{4}-2\\:f_{3}+f_{2}=0\\\\bh-f_{4}+f_{3}=0\\end{array}\\right.$$\n",
    "\n",
    "Con la forma matricial\n",
    "\n",
    "$$\\left(\\begin{array}{cccc}-1 & 1 & 0 & 0\\\\1 & -2 & 1 & 0\\\\0 & 1 & -2 & 1\\\\0 & 0 & 1 & -1\\end{array}\\right)\\left(\\begin{array}{c}f_{1}\\\\f_{2}\\\\f_{3}\\\\f_{4}\\end{array}\\right)+h\\left(\\begin{array}{c}-a\\\\0\\\\0\\\\b\\end{array}\\right)=\\left(\\begin{array}{c}0\\\\0\\\\0\\\\0\\end{array}\\right)$$"
   ]
  },
  {
   "cell_type": "markdown",
   "metadata": {},
   "source": [
    "## Ejercicio 4"
   ]
  },
  {
   "cell_type": "markdown",
   "metadata": {},
   "source": [
    "Al momento de hallar elementos en una matriz, `julia` es más eficiente si trabaja con un solo índice."
   ]
  },
  {
   "cell_type": "code",
   "execution_count": 1,
   "metadata": {},
   "outputs": [
    {
     "data": {
      "text/plain": [
       "3×2 Array{Int64,2}:\n",
       " 1  2\n",
       " 3  4\n",
       " 5  6"
      ]
     },
     "execution_count": 1,
     "metadata": {},
     "output_type": "execute_result"
    }
   ],
   "source": [
    "A = [1 2;3 4;5 6]"
   ]
  },
  {
   "cell_type": "code",
   "execution_count": 2,
   "metadata": {},
   "outputs": [
    {
     "data": {
      "text/plain": [
       "(1, 3, 5, 2, 4, 6)"
      ]
     },
     "execution_count": 2,
     "metadata": {},
     "output_type": "execute_result"
    }
   ],
   "source": [
    "A[1],A[2],A[3],A[4],A[5],A[6]"
   ]
  },
  {
   "cell_type": "markdown",
   "metadata": {},
   "source": [
    "Con la matriz $\\boldsymbol{\\mathcal{A}}$ de arriba definida se observa que si se llama a un elemento del arreglo con un solo índice, entonces se recorre columna por columna, es decir, que se recorren los elementos de una columna y luego continua con la siguiente columna, de arriba hacia abajo.\n",
    "\n",
    "La función $\\:\\phi:(i,j)\\longrightarrow k$ que dados un par de índices $i,j$ nos da el índice $k$ que hace referencia al mismo elemento del arreglo es:\n",
    "\n",
    "$$\\phi(i,j)=i+m(j-1),$$\n",
    "\n",
    "en donde $m$ es la dimensión del espacio de vectores fila de la matriz (número de filas de la matriz), es decir para una matriz de tamaño $m\\times n$. Además, esta función tiene inversa $\\:\\phi^{-1}:k\\longrightarrow(i,j)$ dada por:\n",
    "\n",
    "$$\\phi^{-1}(k)=\\left\\{\\begin{array}{cl}\\left(m,\\dfrac{k}{m}\\right), & m\\mid k\\\\\\left(k-m\\left\\lfloor\\dfrac{k}{m}\\right\\rfloor,1+\\left\\lfloor\\dfrac{k}{m}\\right\\rfloor\\right), & m\\nmid k\\end{array}\\right.$$\n",
    "\n",
    "En donde $m\\mid k$ significa $k\\equiv0\\:(\\mathrm{mod}\\:m)$. Por supuesto, en todas estas definiciones se tiene que $k,m$ son enteros positivos."
   ]
  },
  {
   "cell_type": "code",
   "execution_count": 3,
   "metadata": {
    "collapsed": true
   },
   "outputs": [],
   "source": [
    "function indexk(matrix,i,j)\n",
    "    \n",
    "    m = size(matrix)[1]\n",
    "    n = size(matrix)[2]\n",
    "    if i > m || j > n\n",
    "        return print(\"Intenta accecer al elemento $i,$j de una matriz de tamaño $m,$n\")\n",
    "    end\n",
    "    k = i+m*(j-1) # En el otro caso (cuando se cuenta por filas) es k = n*(i-1)+j\n",
    "    \n",
    "    return k\n",
    "    \n",
    "end;"
   ]
  },
  {
   "cell_type": "code",
   "execution_count": 4,
   "metadata": {},
   "outputs": [
    {
     "data": {
      "text/plain": [
       "3"
      ]
     },
     "execution_count": 4,
     "metadata": {},
     "output_type": "execute_result"
    }
   ],
   "source": [
    "indexk(A,3,1)"
   ]
  },
  {
   "cell_type": "code",
   "execution_count": 5,
   "metadata": {
    "collapsed": true
   },
   "outputs": [],
   "source": [
    "function indexij(matrix,k)\n",
    "    \n",
    "    m = size(matrix)[1]\n",
    "    n = size(matrix)[2]\n",
    "    mn = m*n\n",
    "    if k > mn\n",
    "        return print(\"Intenta accecer al elemento $k de una matriz de $mn elementos\")\n",
    "    end\n",
    "    if k % m == 0\n",
    "        i = m\n",
    "        j = floor(Int,k/m)\n",
    "    else\n",
    "        i = k-m*floor(Int,k/m)\n",
    "        j = 1+floor(Int,k/m)\n",
    "    end\n",
    "    \n",
    "    return i,j\n",
    "    \n",
    "end;"
   ]
  },
  {
   "cell_type": "code",
   "execution_count": 6,
   "metadata": {},
   "outputs": [
    {
     "data": {
      "text/plain": [
       "(3, 2)"
      ]
     },
     "execution_count": 6,
     "metadata": {},
     "output_type": "execute_result"
    }
   ],
   "source": [
    "indexij(A,6)"
   ]
  },
  {
   "cell_type": "markdown",
   "metadata": {},
   "source": [
    "<div align=\"right\" style=\"text-indent:0.5cm\">**Alonso Torres Edgar Giovanni**</div>"
   ]
  }
 ],
 "metadata": {
  "kernelspec": {
   "display_name": "Julia 0.6.0",
   "language": "julia",
   "name": "julia-0.6"
  },
  "language_info": {
   "file_extension": ".jl",
   "mimetype": "application/julia",
   "name": "julia",
   "version": "0.6.0"
  }
 },
 "nbformat": 4,
 "nbformat_minor": 2
}
