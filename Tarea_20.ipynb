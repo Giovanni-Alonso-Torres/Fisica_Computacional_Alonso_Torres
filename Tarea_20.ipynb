{
 "cells": [
  {
   "cell_type": "markdown",
   "metadata": {},
   "source": [
    "<table style=\"width:100%\" border=\"0\">\n",
    "    <col width=\"20%\">\n",
    "    <col width=\"60%\">\n",
    "    <col width=\"20%\">\n",
    "    <tr></tr>\n",
    "    <tr>\n",
    "        <th style=\"text-align:left\"><img src=\"Images/UNAM_logo.jpg\" width=\"150px\"></th>\n",
    "        <th style=\"text-align:center\"><span style=\"font-size:220%\">Física Computacional</span><br/><br/><span style=\"font-size:150%\">Tarea 20</span></th> \n",
    "        <th style=\"text-align:right\"><img src=\"Images/LogoCiencias.jpg\" width=\"170px\"></th>\n",
    "    </tr>\n",
    "</table>"
   ]
  },
  {
   "cell_type": "code",
   "execution_count": 1,
   "metadata": {
    "collapsed": true
   },
   "outputs": [],
   "source": [
    "using PyPlot"
   ]
  },
  {
   "cell_type": "markdown",
   "metadata": {},
   "source": [
    "## Ecuaciones diferenciales parciales"
   ]
  },
  {
   "cell_type": "markdown",
   "metadata": {},
   "source": [
    "## Ejercicio 1"
   ]
  },
  {
   "cell_type": "markdown",
   "metadata": {},
   "source": [
    "Se resuelve la ecuación de Laplace de dos dimensiones en una malla de 5 por 7 con las siguientes condiciones a la frontera: la función $\\:f$ toma los valores $\\{0, 70.7107, 100, 70.7107, 0\\}$ en el borde superior y es cero en los demás bordes. Las ecuación matricial a resolver es: $\\boldsymbol{\\mathcal{A}}\\:\\boldsymbol{f}+\\mathbf{b}=0$, en donde\n",
    "\n",
    "$$\n",
    "\\boldsymbol{\\mathcal{A}}=\n",
    "\\left(\n",
    "\\begin{array}{ccccccccccccccc}\n",
    " -4 & 1 & 0 & 0 & 0 & 1 & 0 & 0 & 0 & 0 & 0 & 0 & 0 & 0 & 0 \\\\\n",
    " 1 & -4 & 1 & 0 & 0 & 0 & 1 & 0 & 0 & 0 & 0 & 0 & 0 & 0 & 0 \\\\\n",
    " 0 & 1 & -4 & 1 & 0 & 0 & 0 & 1 & 0 & 0 & 0 & 0 & 0 & 0 & 0 \\\\\n",
    " 0 & 0 & 1 & -4 & 1 & 0 & 0 & 0 & 1 & 0 & 0 & 0 & 0 & 0 & 0 \\\\\n",
    " 0 & 0 & 0 & 1 & -4 & 0 & 0 & 0 & 0 & 1 & 0 & 0 & 0 & 0 & 0 \\\\\n",
    " 1 & 0 & 0 & 0 & 0 & -4 & 1 & 0 & 0 & 0 & 1 & 0 & 0 & 0 & 0 \\\\\n",
    " 0 & 1 & 0 & 0 & 0 & 1 & -4 & 1 & 0 & 0 & 0 & 1 & 0 & 0 & 0 \\\\\n",
    " 0 & 0 & 1 & 0 & 0 & 0 & 1 & -4 & 1 & 0 & 0 & 0 & 1 & 0 & 0 \\\\\n",
    " 0 & 0 & 0 & 1 & 0 & 0 & 0 & 1 & -4 & 1 & 0 & 0 & 0 & 1 & 0 \\\\\n",
    " 0 & 0 & 0 & 0 & 1 & 0 & 0 & 0 & 1 & -4 & 0 & 0 & 0 & 0 & 1 \\\\\n",
    " 0 & 0 & 0 & 0 & 0 & 1 & 0 & 0 & 0 & 0 & -4 & 1 & 0 & 0 & 0 \\\\\n",
    " 0 & 0 & 0 & 0 & 0 & 0 & 1 & 0 & 0 & 0 & 1 & -4 & 1 & 0 & 0 \\\\\n",
    " 0 & 0 & 0 & 0 & 0 & 0 & 0 & 1 & 0 & 0 & 0 & 1 & -4 & 1 & 0 \\\\\n",
    " 0 & 0 & 0 & 0 & 0 & 0 & 0 & 0 & 1 & 0 & 0 & 0 & 1 & -4 & 1 \\\\\n",
    " 0 & 0 & 0 & 0 & 0 & 0 & 0 & 0 & 0 & 1 & 0 & 0 & 0 & 1 & -4 \\\\\n",
    "\\end{array}\n",
    "\\right),\\:\\:\n",
    "\\mathbf{b}=\n",
    "\\left(\n",
    "\\begin{array}{ccccccccccccccc}\n",
    " 0 \\\\\n",
    " 0 \\\\\n",
    " 0 \\\\\n",
    " 0 \\\\\n",
    " 70.7107 \\\\\n",
    " 0 \\\\\n",
    " 0 \\\\\n",
    " 0 \\\\\n",
    " 0 \\\\\n",
    " 100 \\\\\n",
    " 0 \\\\\n",
    " 0 \\\\\n",
    " 0 \\\\\n",
    " 0 \\\\\n",
    " 70.7107 \\\\\n",
    "\\end{array}\n",
    "\\right)\\:\\:\n",
    "\\mathrm{y}\\:\\:\n",
    "\\boldsymbol{f}=\n",
    "\\left(\n",
    "\\begin{array}{ccccccccccccccc}\n",
    " f_{2,2} \\\\\n",
    " f_{2,3} \\\\\n",
    " f_{2,4} \\\\\n",
    " f_{2,5} \\\\\n",
    " f_{2,6} \\\\\n",
    " f_{3,2} \\\\\n",
    " f_{3,3} \\\\\n",
    " f_{3,4} \\\\\n",
    " f_{3,5} \\\\\n",
    " f_{3,6} \\\\\n",
    " f_{4,2} \\\\\n",
    " f_{4,3} \\\\\n",
    " f_{4,4} \\\\\n",
    " f_{4,5} \\\\\n",
    " f_{4,6} \\\\\n",
    "\\end{array}\n",
    "\\right)\n",
    "$$"
   ]
  },
  {
   "cell_type": "code",
   "execution_count": 2,
   "metadata": {
    "collapsed": true
   },
   "outputs": [],
   "source": [
    "A = zeros(15,15)\n",
    "\n",
    "for i in 1:15\n",
    "    A[i,i] = -4\n",
    "    if i < 15 && i != 5 && i != 10\n",
    "        A[i,i+1] = 1\n",
    "        A[i+1,i] = 1\n",
    "    end\n",
    "    if i < 11\n",
    "        A[i,i+5] = 1\n",
    "        A[i+5,i] = 1\n",
    "    end\n",
    "end"
   ]
  },
  {
   "cell_type": "code",
   "execution_count": 3,
   "metadata": {},
   "outputs": [
    {
     "data": {
      "text/plain": [
       "15×15 Array{Float64,2}:\n",
       " -4.0   1.0   0.0   0.0   0.0   1.0  …   0.0   0.0   0.0   0.0   0.0   0.0\n",
       "  1.0  -4.0   1.0   0.0   0.0   0.0      0.0   0.0   0.0   0.0   0.0   0.0\n",
       "  0.0   1.0  -4.0   1.0   0.0   0.0      0.0   0.0   0.0   0.0   0.0   0.0\n",
       "  0.0   0.0   1.0  -4.0   1.0   0.0      0.0   0.0   0.0   0.0   0.0   0.0\n",
       "  0.0   0.0   0.0   1.0  -4.0   0.0      1.0   0.0   0.0   0.0   0.0   0.0\n",
       "  1.0   0.0   0.0   0.0   0.0  -4.0  …   0.0   1.0   0.0   0.0   0.0   0.0\n",
       "  0.0   1.0   0.0   0.0   0.0   1.0      0.0   0.0   1.0   0.0   0.0   0.0\n",
       "  0.0   0.0   1.0   0.0   0.0   0.0      0.0   0.0   0.0   1.0   0.0   0.0\n",
       "  0.0   0.0   0.0   1.0   0.0   0.0      1.0   0.0   0.0   0.0   1.0   0.0\n",
       "  0.0   0.0   0.0   0.0   1.0   0.0     -4.0   0.0   0.0   0.0   0.0   1.0\n",
       "  0.0   0.0   0.0   0.0   0.0   1.0  …   0.0  -4.0   1.0   0.0   0.0   0.0\n",
       "  0.0   0.0   0.0   0.0   0.0   0.0      0.0   1.0  -4.0   1.0   0.0   0.0\n",
       "  0.0   0.0   0.0   0.0   0.0   0.0      0.0   0.0   1.0  -4.0   1.0   0.0\n",
       "  0.0   0.0   0.0   0.0   0.0   0.0      0.0   0.0   0.0   1.0  -4.0   1.0\n",
       "  0.0   0.0   0.0   0.0   0.0   0.0      1.0   0.0   0.0   0.0   1.0  -4.0"
      ]
     },
     "execution_count": 3,
     "metadata": {},
     "output_type": "execute_result"
    }
   ],
   "source": [
    "A"
   ]
  },
  {
   "cell_type": "code",
   "execution_count": 4,
   "metadata": {},
   "outputs": [
    {
     "data": {
      "text/plain": [
       "5×3 Array{Float64,2}:\n",
       "  1.30459   1.84497   1.30459\n",
       "  3.37339   4.77069   3.37339\n",
       "  7.41827  10.491     7.41827\n",
       " 15.8087   22.3568   15.8087 \n",
       " 33.4596   47.319    33.4596 "
      ]
     },
     "execution_count": 4,
     "metadata": {},
     "output_type": "execute_result"
    }
   ],
   "source": [
    "b = [0 0 0 0 70.7107 0 0 0 0 100 0 0 0 0 70.7107]'\n",
    "f = -inv(A)*b;\n",
    "F = reshape(f,(5,3))"
   ]
  },
  {
   "cell_type": "code",
   "execution_count": 5,
   "metadata": {},
   "outputs": [
    {
     "data": {
      "image/png": "[encoded data removed]",
      "text/plain": [
       "PyPlot.Figure(PyObject <matplotlib.figure.Figure object at 0x12af700d0>)"
      ]
     },
     "metadata": {},
     "output_type": "display_data"
    }
   ],
   "source": [
    "pcolormesh(F,cmap=\"YlGn\")\n",
    "colorbar();"
   ]
  },
  {
   "cell_type": "markdown",
   "metadata": {},
   "source": [
    "<div align=\"right\" style=\"text-indent:0.5cm\">**Alonso Torres Edgar Giovanni**</div>"
   ]
  }
 ],
 "metadata": {
  "kernelspec": {
   "display_name": "Julia 0.6.0",
   "language": "julia",
   "name": "julia-0.6"
  },
  "language_info": {
   "file_extension": ".jl",
   "mimetype": "application/julia",
   "name": "julia",
   "version": "0.6.0"
  }
 },
 "nbformat": 4,
 "nbformat_minor": 2
}
