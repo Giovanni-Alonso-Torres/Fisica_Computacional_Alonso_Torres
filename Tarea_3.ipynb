{
 "cells": [
  {
   "cell_type": "markdown",
   "metadata": {},
   "source": [
    "# Energías propias del pozo finito cuadrado con ciclo *while*"
   ]
  },
  {
   "cell_type": "code",
   "execution_count": 1,
   "metadata": {
    "collapsed": false
   },
   "outputs": [
    {
     "data": {
      "text/plain": [
       "Eigenenergia"
      ]
     },
     "execution_count": 1,
     "metadata": {},
     "output_type": "execute_result"
    }
   ],
   "source": [
    "\"\"\"\n",
    "Esta función calcula las eigenenergías de un pozo finito cuadrado. Eigenenergia``(x_0``, ``A``, ``\\\\varepsilon)``, utiliza el método de Newton-Raphson, ``x_0`` es el valor inicial de las iteraciones del método, ``A`` es la constante de la ecuación que define las eigenenergías del pozo ``(`` ``f(x)=x\\\\tan(x)-\\\\sqrt{A-x^2}=0`` ``)`` y ``\\\\varepsilon`` indica a la función Eigenenergia el orden que deseamos para ``f`` ``(``i.e. ``\\\\left|f(x)\\\\right|<\\\\varepsilon`` ``)``, si no se especifica el valor de ``\\\\varepsilon`` se toma como ``10^{-10}`` por defecto. El resultado de la función es la eigenenergía asociada y el valor de la función evaluada en dicho valor.\n",
    "\"\"\"\n",
    "function Eigenenergia(R,S,E=1/10^10)\n",
    "  \n",
    "  f(y)=y*tan(y)-sqrt(complex(S-y*y))\n",
    "  if S==R*R\n",
    "    print(\"En Eigenenergy(R,S), elegir x_0^2 distinto de A.\")\n",
    "  else \n",
    "    x=R-f(R)/(tan(R)+R*sec(R)*sec(R)+R/sqrt(complex(S-R*R)))\n",
    "    F=abs(f(x))\n",
    "    while E<F\n",
    "       x=x-f(x)/(tan(x)+x*sec(x)*sec(x)+x/sqrt(complex(S-x*x)))\n",
    "       F=abs(f(x))\n",
    "    end\n",
    "    \n",
    "    return x,f(x)\n",
    "    \n",
    "  end\n",
    "end"
   ]
  },
  {
   "cell_type": "code",
   "execution_count": 2,
   "metadata": {
    "collapsed": false
   },
   "outputs": [
    {
     "name": "stdout",
     "output_type": "stream",
     "text": [
      "search:\n",
      "\n"
     ]
    },
    {
     "data": {
      "text/markdown": [
       "Esta función calcula las eigenenergías de un pozo finito cuadrado. Eigenenergia$(x_0$, $A$, $\\varepsilon)$, utiliza el método de Newton-Raphson, $x_0$ es el valor inicial de las iteraciones del método, $A$ es la constante de la ecuación que define las eigenenergías del pozo $($ $f(x)=x\\tan(x)-\\sqrt{A-x^2}=0$ $)$ y $\\varepsilon$ indica a la función Eigenenergia el orden que deseamos para $f$ $($i.e. $\\left|f(x)\\right|<\\varepsilon$ $)$, si no se especifica el valor de $\\varepsilon$ se toma como $10^{-10}$ por defecto. El resultado de la función es la eigenenergía asociada y el valor de la función evaluada en dicho valor.\n"
      ],
      "text/plain": [
       "Esta función calcula las eigenenergías de un pozo finito cuadrado. Eigenenergia$(x_0$, $A$, $\\varepsilon)$, utiliza el método de Newton-Raphson, $x_0$ es el valor inicial de las iteraciones del método, $A$ es la constante de la ecuación que define las eigenenergías del pozo $($ $f(x)=x\\tan(x)-\\sqrt{A-x^2}=0$ $)$ y $\\varepsilon$ indica a la función Eigenenergia el orden que deseamos para $f$ $($i.e. $\\left|f(x)\\right|<\\varepsilon$ $)$, si no se especifica el valor de $\\varepsilon$ se toma como $10^{-10}$ por defecto. El resultado de la función es la eigenenergía asociada y el valor de la función evaluada en dicho valor.\n"
      ]
     },
     "execution_count": 2,
     "metadata": {},
     "output_type": "execute_result"
    }
   ],
   "source": [
    "?Eigenenergia"
   ]
  },
  {
   "cell_type": "code",
   "execution_count": 3,
   "metadata": {
    "collapsed": false
   },
   "outputs": [
    {
     "data": {
      "text/plain": [
       "(3.1616420951060653 + 1.021349598103214e-17im, -3.802513859341161e-15 + 5.41856430377479e-16im)"
      ]
     },
     "execution_count": 3,
     "metadata": {},
     "output_type": "execute_result"
    }
   ],
   "source": [
    "Eigenenergia(2,10)"
   ]
  },
  {
   "cell_type": "markdown",
   "metadata": {
    "collapsed": true
   },
   "source": [
    "### Alonso Torres Edgar Giovanni"
   ]
  }
 ],
 "metadata": {
  "kernelspec": {
   "display_name": "Julia 0.6.0",
   "language": "julia",
   "name": "julia-0.6"
  },
  "language_info": {
   "file_extension": ".jl",
   "mimetype": "application/julia",
   "name": "julia",
   "version": "0.6.0"
  }
 },
 "nbformat": 4,
 "nbformat_minor": 2
}
