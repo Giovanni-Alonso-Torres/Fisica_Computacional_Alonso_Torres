{
 "cells": [
  {
   "cell_type": "markdown",
   "metadata": {},
   "source": [
    "<table style=\"width:100%\" border=\"0\">\n",
    "    <col width=\"20%\">\n",
    "    <col width=\"60%\">\n",
    "    <col width=\"20%\">\n",
    "    <tr></tr>\n",
    "    <tr>\n",
    "        <th style=\"text-align:left\"><img src=\"Images/UNAM_logo.jpg\" width=\"150px\"></th>\n",
    "        <th style=\"text-align:center\"><span style=\"font-size:220%\">Física Computacional</span><br/><br/><span style=\"font-size:150%\">Tarea 10</span></th> \n",
    "        <th style=\"text-align:right\"><img src=\"Images/LogoCiencias.jpg\" width=\"170px\"></th>\n",
    "    </tr>\n",
    "</table>"
   ]
  },
  {
   "cell_type": "code",
   "execution_count": 1,
   "metadata": {
    "collapsed": true
   },
   "outputs": [],
   "source": [
    "using SymPy"
   ]
  },
  {
   "cell_type": "markdown",
   "metadata": {},
   "source": [
    "En este notebook se tiene un algoritmo para calcular automáticamente las diferencias finitas simétricas de $\\:f(x)$ a ordenes más altos. Recordemos que si $\\delta_{h}:\\:f(x)\\mapsto\\:f(x+h)-f(x-h)$ es el operador derivada finita simétrica, entonces:\n",
    "\n",
    "$$\\left.\\frac{d}{d\\xi}\\right|_{\\substack{\\xi=x}}=\\frac{1}{h}\\:\\mathrm{senh}^{-1}\\left(\\frac{\\delta_{h}}{2}\\right)$$"
   ]
  },
  {
   "cell_type": "code",
   "execution_count": 2,
   "metadata": {
    "collapsed": true
   },
   "outputs": [],
   "source": [
    "function coeff_Taylor_Arcsinh(i)\n",
    "    x=Sym(\"x\");\n",
    "    h=Sym(\"h\");\n",
    "    N(subs(diff(asinh(x),x,i)/factorial(Float64(i)),x=>0))  # En SymPy la función arcsenh es asinh.\n",
    "end;\n",
    "\n",
    "function coeff_Taylor_Arcsinh_rational(i)\n",
    "    x=Sym(\"x\");\n",
    "    h=Sym(\"h\");\n",
    "    subs(diff(asinh(x),x,i)/factorial(i),x=>0)\n",
    "end;\n",
    "\n",
    "function finite_difference_symmetric(f)\n",
    "    return (x,h)->f(x+h,h)-f(x-h,h)      # ------------------ Diferencia finita simétrica.\n",
    "end;"
   ]
  },
  {
   "cell_type": "markdown",
   "metadata": {},
   "source": [
    "Observemos que la función `finite_difference_symmetric` si nos de el resultado que queremos:"
   ]
  },
  {
   "cell_type": "code",
   "execution_count": 3,
   "metadata": {},
   "outputs": [
    {
     "data": {
      "text/latex": [
       "$$- g{\\left (- h + x \\right )} + g{\\left (h + x \\right )}$$"
      ],
      "text/plain": [
       "-g(-h + x) + g(h + x)"
      ]
     },
     "execution_count": 3,
     "metadata": {},
     "output_type": "execute_result"
    }
   ],
   "source": [
    "g=SymFunction(\"g\");\n",
    "rr(x,h)=g(x);\n",
    "gg=finite_difference_symmetric(rr);\n",
    "gg(Sym(\"x\"),Sym(\"h\"))"
   ]
  },
  {
   "cell_type": "markdown",
   "metadata": {},
   "source": [
    "Y la segunda aplicación de `finite_difference_symmetric`:"
   ]
  },
  {
   "cell_type": "code",
   "execution_count": 4,
   "metadata": {},
   "outputs": [
    {
     "data": {
      "text/latex": [
       "$$- 2 g{\\left (x \\right )} + g{\\left (- 2 h + x \\right )} + g{\\left (2 h + x \\right )}$$"
      ],
      "text/plain": [
       "-2*g(x) + g(-2*h + x) + g(2*h + x)"
      ]
     },
     "execution_count": 4,
     "metadata": {},
     "output_type": "execute_result"
    }
   ],
   "source": [
    "gg=finite_difference_symmetric(gg);\n",
    "gg(Sym(\"x\"),Sym(\"h\"))"
   ]
  },
  {
   "cell_type": "code",
   "execution_count": 5,
   "metadata": {
    "collapsed": true
   },
   "outputs": [],
   "source": [
    "function Derivative_order(f,x,h,order)\n",
    "    g(x,h) = f(x)\n",
    "    der = 0\n",
    "    for i in range(1,order)\n",
    "        g = finite_difference_symmetric(g)\n",
    "        der += coeff_Taylor_Arcsinh(i)*g(x,h)/2^i   # La división por 2^i es por que la derivada exacta es\n",
    "    end                                             # proporcional a arcsenh(delta/2)\n",
    "    der/h\n",
    "end;\n",
    "function Derivative_order_rational_coefficients(f,x,h,order)\n",
    "    g(x,h) = f(x)\n",
    "    der = 0\n",
    "    for i in range(1,order)\n",
    "        g = finite_difference_symmetric(g)\n",
    "        der += coeff_Taylor_Arcsinh_rational(i)*g(x,h)/2^i\n",
    "    end\n",
    "    der/h\n",
    "end;"
   ]
  },
  {
   "cell_type": "markdown",
   "metadata": {},
   "source": [
    "Podemos probar la rutina para obtener la derivada numérica de la función $\\cos(x)$ en $x=10$, sabiendo que la derivada exacta es $\\:-\\mathrm{sen}(x)$:"
   ]
  },
  {
   "cell_type": "code",
   "execution_count": 6,
   "metadata": {},
   "outputs": [
    {
     "data": {
      "text/plain": [
       "0.5440211108893371"
      ]
     },
     "execution_count": 6,
     "metadata": {},
     "output_type": "execute_result"
    }
   ],
   "source": [
    "Derivative_order(cos,10.0,0.01,5)"
   ]
  },
  {
   "cell_type": "code",
   "execution_count": 7,
   "metadata": {},
   "outputs": [
    {
     "data": {
      "text/plain": [
       "0.5440211108893698"
      ]
     },
     "execution_count": 7,
     "metadata": {},
     "output_type": "execute_result"
    }
   ],
   "source": [
    "-sin(10.0)"
   ]
  },
  {
   "cell_type": "markdown",
   "metadata": {},
   "source": [
    "Se observa que la derivada numérica de orden 5 es igual a la exacta en ¡14 cifras significativas!. Para conocer como escala el error, expandimos la derivada numérica en serie de Taylor, por ejemplo la derivada numérica de orden 5:"
   ]
  },
  {
   "cell_type": "code",
   "execution_count": 8,
   "metadata": {},
   "outputs": [
    {
     "data": {
      "text/latex": [
       "$$\\frac{1}{h} \\left(- \\frac{3}{1280} f{\\left (- 5 h + x \\right )} + \\frac{25}{768} f{\\left (- 3 h + x \\right )} - \\frac{75}{128} f{\\left (- h + x \\right )} + \\frac{75}{128} f{\\left (h + x \\right )} - \\frac{25}{768} f{\\left (3 h + x \\right )} + \\frac{3}{1280} f{\\left (5 h + x \\right )}\\right)$$"
      ],
      "text/plain": [
       "  3*f(-5*h + x)   25*f(-3*h + x)   75*f(-h + x)   75*f(h + x)   25*f(3*h + x) \n",
       "- ------------- + -------------- - ------------ + ----------- - ------------- \n",
       "       1280            768             128            128            768      \n",
       "------------------------------------------------------------------------------\n",
       "                                             h                                \n",
       "\n",
       "  3*f(5*h + x)\n",
       "+ ------------\n",
       "      1280    \n",
       "--------------\n",
       "              "
      ]
     },
     "execution_count": 8,
     "metadata": {},
     "output_type": "execute_result"
    }
   ],
   "source": [
    "approx=Derivative_order_rational_coefficients(SymFunction(\"f\"),Sym(\"x\"),Sym(\"h\"),5)"
   ]
  },
  {
   "cell_type": "code",
   "execution_count": 9,
   "metadata": {},
   "outputs": [
    {
     "data": {
      "text/latex": [
       "$$\\left. \\frac{d}{d \\xi_{1}} f{\\left (\\xi_{1} \\right )} \\right|_{\\substack{ \\xi_{1}=x }} + \\frac{5 h^{6}}{112} \\left. \\frac{d^{7}}{d \\xi_{1}^{7}}  f{\\left (\\xi_{1} \\right )} \\right|_{\\substack{ \\xi_{1}=x }} + \\mathcal{O}\\left(h^{8}\\right)$$"
      ],
      "text/plain": [
       "                               /   7           \\|              \n",
       "                             6 |  d            ||              \n",
       "                          5*h *|------(f(xi_1))||              \n",
       "                               |     7         ||              \n",
       "/  d           \\|              \\dxi_1          /|xi_1=x    / 8\\\n",
       "|-----(f(xi_1))||       + ----------------------------- + O\\h /\n",
       "\\dxi_1         /|xi_1=x                112                     "
      ]
     },
     "execution_count": 9,
     "metadata": {},
     "output_type": "execute_result"
    }
   ],
   "source": [
    "series(approx,Sym(\"h\"),0,8)"
   ]
  },
  {
   "cell_type": "markdown",
   "metadata": {},
   "source": [
    "Se tiene entonces que para la derivada numérica simetrizada de orden 5 el error escala como $h^{6}$."
   ]
  },
  {
   "cell_type": "markdown",
   "metadata": {},
   "source": [
    "<div align=\"right\" style=\"text-indent:0.5cm\">**Alonso Torres Edgar Giovanni**</div>"
   ]
  }
 ],
 "metadata": {
  "kernelspec": {
   "display_name": "Julia 0.6.0",
   "language": "julia",
   "name": "julia-0.6"
  },
  "language_info": {
   "file_extension": ".jl",
   "mimetype": "application/julia",
   "name": "julia",
   "version": "0.6.0"
  }
 },
 "nbformat": 4,
 "nbformat_minor": 2
}
